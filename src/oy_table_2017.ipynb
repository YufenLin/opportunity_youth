{
 "cells": [
  {
   "cell_type": "markdown",
   "metadata": {},
   "source": [
    "# Import SQL script of opportunity youth to pandas"
   ]
  },
  {
   "cell_type": "markdown",
   "metadata": {},
   "source": [
    "## Import libraty"
   ]
  },
  {
   "cell_type": "code",
   "execution_count": 98,
   "metadata": {},
   "outputs": [],
   "source": [
    "from sqlalchemy import create_engine\n",
    "import pandas as pd"
   ]
  },
  {
   "cell_type": "markdown",
   "metadata": {},
   "source": [
    "## Create engine"
   ]
  },
  {
   "cell_type": "code",
   "execution_count": 90,
   "metadata": {},
   "outputs": [],
   "source": [
    "engine = create_engine(\"postgresql:///opportunity_youth\")"
   ]
  },
  {
   "cell_type": "markdown",
   "metadata": {},
   "source": [
    "## Read four SQL(three age range and total)"
   ]
  },
  {
   "cell_type": "code",
   "execution_count": 91,
   "metadata": {},
   "outputs": [],
   "source": [
    "sqlpath1618 = 'sql/oy_16_18.sql'\n",
    "scriptFile1618 = open(sqlpath1618,'r')\n",
    "script1618 = scriptFile1618.read()\n",
    "df1618 = pd.read_sql(script1618, con = engine)\n",
    "\n",
    "sqlpath1921 = 'sql/oy_19_21.sql'\n",
    "scriptFile1921 = open(sqlpath1921,'r')\n",
    "script1921 = scriptFile1921.read()\n",
    "df1921 = pd.read_sql(script1921, con = engine)\n",
    "\n",
    "sqlpath2224 = 'sql/oy_22_24.sql'\n",
    "scriptFile2224 = open(sqlpath2224,'r')\n",
    "script2224 = scriptFile2224.read()\n",
    "df2224 = pd.read_sql(script2224, con = engine)\n",
    "\n",
    "sqlpath_total = 'sql/oy_total.sql'\n",
    "scriptFile_total = open(sqlpath_total,'r')\n",
    "script_total = scriptFile_total.read()\n",
    "df_total = pd.read_sql(script_total, con = engine)"
   ]
  },
  {
   "cell_type": "markdown",
   "metadata": {},
   "source": [
    "## Combine four dataframe using pd.concat"
   ]
  },
  {
   "cell_type": "code",
   "execution_count": 99,
   "metadata": {},
   "outputs": [],
   "source": [
    "pd_oy = pd.concat([df1921.iloc[:,0:1], df1618.iloc[:,1:], df1921.iloc[:,1:], df2224.iloc[:,1:], df_total.iloc[:,1:]], axis=1)"
   ]
  },
  {
   "cell_type": "markdown",
   "metadata": {},
   "source": [
    "## Fill N/A value 0"
   ]
  },
  {
   "cell_type": "code",
   "execution_count": 100,
   "metadata": {},
   "outputs": [],
   "source": [
    "pd_oy = pd_oy.fillna(0)"
   ]
  },
  {
   "cell_type": "code",
   "execution_count": 88,
   "metadata": {},
   "outputs": [
    {
     "data": {
      "text/html": [
       "<div>\n",
       "<style scoped>\n",
       "    .dataframe tbody tr th:only-of-type {\n",
       "        vertical-align: middle;\n",
       "    }\n",
       "\n",
       "    .dataframe tbody tr th {\n",
       "        vertical-align: top;\n",
       "    }\n",
       "\n",
       "    .dataframe thead th {\n",
       "        text-align: right;\n",
       "    }\n",
       "</style>\n",
       "<table border=\"1\" class=\"dataframe\">\n",
       "  <thead>\n",
       "    <tr style=\"text-align: right;\">\n",
       "      <th></th>\n",
       "      <th>degree</th>\n",
       "      <th>popluation_16_18</th>\n",
       "      <th>ratio_16_18</th>\n",
       "      <th>popluation_19_21</th>\n",
       "      <th>ratio_19_21</th>\n",
       "      <th>popluation_22_24</th>\n",
       "      <th>ratio_22_24</th>\n",
       "      <th>popluation_total</th>\n",
       "      <th>ratio_total</th>\n",
       "    </tr>\n",
       "  </thead>\n",
       "  <tbody>\n",
       "    <tr>\n",
       "      <td>0</td>\n",
       "      <td>0_No diploma</td>\n",
       "      <td>1083.0</td>\n",
       "      <td>54.0</td>\n",
       "      <td>1210.0</td>\n",
       "      <td>28.0</td>\n",
       "      <td>1488.0</td>\n",
       "      <td>26.0</td>\n",
       "      <td>3781.0</td>\n",
       "      <td>31.0</td>\n",
       "    </tr>\n",
       "    <tr>\n",
       "      <td>1</td>\n",
       "      <td>1_HS or GED</td>\n",
       "      <td>790.0</td>\n",
       "      <td>39.0</td>\n",
       "      <td>2312.0</td>\n",
       "      <td>54.0</td>\n",
       "      <td>2284.0</td>\n",
       "      <td>40.0</td>\n",
       "      <td>5386.0</td>\n",
       "      <td>45.0</td>\n",
       "    </tr>\n",
       "    <tr>\n",
       "      <td>2</td>\n",
       "      <td>2_Some college</td>\n",
       "      <td>143.0</td>\n",
       "      <td>7.0</td>\n",
       "      <td>712.0</td>\n",
       "      <td>16.0</td>\n",
       "      <td>1275.0</td>\n",
       "      <td>22.0</td>\n",
       "      <td>2130.0</td>\n",
       "      <td>18.0</td>\n",
       "    </tr>\n",
       "    <tr>\n",
       "      <td>3</td>\n",
       "      <td>3_Degree</td>\n",
       "      <td>0.0</td>\n",
       "      <td>0.0</td>\n",
       "      <td>86.0</td>\n",
       "      <td>2.0</td>\n",
       "      <td>648.0</td>\n",
       "      <td>11.0</td>\n",
       "      <td>734.0</td>\n",
       "      <td>6.0</td>\n",
       "    </tr>\n",
       "  </tbody>\n",
       "</table>\n",
       "</div>"
      ],
      "text/plain": [
       "           degree  popluation_16_18  ratio_16_18  popluation_19_21  \\\n",
       "0    0_No diploma            1083.0         54.0            1210.0   \n",
       "1     1_HS or GED             790.0         39.0            2312.0   \n",
       "2  2_Some college             143.0          7.0             712.0   \n",
       "3        3_Degree               0.0          0.0              86.0   \n",
       "\n",
       "   ratio_19_21  popluation_22_24  ratio_22_24  popluation_total  ratio_total  \n",
       "0         28.0            1488.0         26.0            3781.0         31.0  \n",
       "1         54.0            2284.0         40.0            5386.0         45.0  \n",
       "2         16.0            1275.0         22.0            2130.0         18.0  \n",
       "3          2.0             648.0         11.0             734.0          6.0  "
      ]
     },
     "execution_count": 88,
     "metadata": {},
     "output_type": "execute_result"
    }
   ],
   "source": [
    "pd_oy"
   ]
  },
  {
   "cell_type": "code",
   "execution_count": null,
   "metadata": {},
   "outputs": [],
   "source": []
  }
 ],
 "metadata": {
  "kernelspec": {
   "display_name": "oy-env",
   "language": "python",
   "name": "oy-env"
  },
  "language_info": {
   "codemirror_mode": {
    "name": "ipython",
    "version": 3
   },
   "file_extension": ".py",
   "mimetype": "text/x-python",
   "name": "python",
   "nbconvert_exporter": "python",
   "pygments_lexer": "ipython3",
   "version": "3.6.9"
  }
 },
 "nbformat": 4,
 "nbformat_minor": 2
}
