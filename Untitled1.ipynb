{
 "cells": [
  {
   "cell_type": "markdown",
   "metadata": {},
   "source": [
    " 16- to 24-year-olds who are neither in school nor working."
   ]
  },
  {
   "cell_type": "code",
   "execution_count": null,
   "metadata": {},
   "outputs": [],
   "source": [
    "CREATE TABLE XX AS(\n",
    "\n",
    ");"
   ]
  },
  {
   "cell_type": "code",
   "execution_count": null,
   "metadata": {},
   "outputs": [],
   "source": [
    "OVER() SQL"
   ]
  },
  {
   "cell_type": "markdown",
   "metadata": {},
   "source": [
    "1. make a branch(i.e. oy_requirement)\n",
    "git checout -b oy_\n",
    "2. commits\n",
    "git add src/vis../*.sql \n",
    "reference/*.pdf\n",
    "\n",
    "git commit -m \"Updata XXX\"\n",
    "\n",
    "3. sent your commits back to the cloud\n",
    "    the cloud is origin, sent the commits nor the oy_... brance\n",
    "git push origin oy_\n",
    "\n",
    "><\n"
   ]
  },
  {
   "cell_type": "code",
   "execution_count": 2,
   "metadata": {},
   "outputs": [],
   "source": [
    "from sqlalchemy import create_engine\n",
    "import pandas as pd"
   ]
  },
  {
   "cell_type": "code",
   "execution_count": 3,
   "metadata": {},
   "outputs": [],
   "source": [
    "engine = create_engine(\"postgresql:///opportunity_youth\")"
   ]
  },
  {
   "cell_type": "code",
   "execution_count": null,
   "metadata": {},
   "outputs": [],
   "source": [
    "puman_name_df = pd.read_sql(sql=\"SELECT * FROM pums_2017 LIMIT 1;\", con = engine)"
   ]
  },
  {
   "cell_type": "markdown",
   "metadata": {},
   "source": [
    "Table 1 Row 1\n",
    "sch\n",
    "Character 1\n",
    "School enrollment\n",
    "     b .N/A (less than 3 years old)\n",
    "     1 .No, has not attended in the last 3 months\n",
    "     2 .Yes, public school or public college\n",
    "     3 .Yes, private school or college or home school\n",
    "ESR\n",
    "Character 1\n",
    "Employment status recode\n",
    "     b .N/A (less than 16 years old)\n",
    "     1 .Civilian employed, at work\n",
    "     2 .Civilian employed, with a job but not at work\n",
    "     3 .Unemployed\n",
    "     4 .Armed forces, at work\n",
    "     5 .Armed forces, with a job but not at work\n",
    "     6 .Not in labor force\n",
    "AGEP\n",
    "00 Under 1 year\n",
    "01  .. 99 1 to 99\n",
    "Rac1P\n",
    "Character 1\n",
    "Recoded detailed race code\n",
    "     1 .White alone\n",
    "2 .Black or African American alone\n",
    "3 .American Indian alone\n",
    "4 .Alaska Native alone\n",
    "5 .American Indian and Alaska Native tribes specified; or\n",
    ".American Indian or Alaska Native, not specified and no other\n",
    "       .races\n",
    "     6 .Asian alone\n",
    "     7 .Native Hawaiian and Other Pacific Islander alone\n",
    "     8 .Some Other Race alone\n",
    "     9 .Two or More Races\n",
    "ROW 2\n",
    "SCHL\n",
    "Character 2\n",
    "Educational attainment\n",
    "     bb .N/A (less than 3 years old)\n",
    "     01 .No schooling completed\n",
    "     02 .Nursery school, preschool\n",
    "     03 .Kindergarten\n",
    "     04 .Grade 1\n",
    "     05 .Grade 2\n",
    "     06 .Grade 3\n",
    "     07 .Grade 4\n",
    "     08 .Grade 5\n",
    "     09 .Grade 6\n",
    "     10 .Grade 7\n",
    "     11 .Grade 8\n",
    "     12 .Grade 9\n",
    "     13 .Grade 10\n",
    "     14 .Grade 11\n",
    "     15 .12th grade - no diploma\n",
    "     16 .Regular high school diploma\n",
    "     17 .GED or alternative credential\n",
    "     18 .Some college, but less than 1 year\n",
    "     19 .1 or more years of college credit, no degree\n",
    "     20 .Associate's degree\n",
    "     21 .Bachelor's degree\n",
    "     22 .Master's degree\n",
    "     23 .Professional degree beyond a bachelor's degree\n",
    "     24 .Doctorate degree"
   ]
  }
 ],
 "metadata": {
  "kernelspec": {
   "display_name": "oy-env",
   "language": "python",
   "name": "oy-env"
  },
  "language_info": {
   "codemirror_mode": {
    "name": "ipython",
    "version": 3
   },
   "file_extension": ".py",
   "mimetype": "text/x-python",
   "name": "python",
   "nbconvert_exporter": "python",
   "pygments_lexer": "ipython3",
   "version": "3.7.3"
  }
 },
 "nbformat": 4,
 "nbformat_minor": 2
}
